{
 "cells": [
  {
   "cell_type": "code",
   "execution_count": 12,
   "metadata": {},
   "outputs": [],
   "source": [
    "from datetime import datetime\n",
    "import datetime\n",
    "import pytz\n"
   ]
  },
  {
   "cell_type": "code",
   "execution_count": 13,
   "metadata": {},
   "outputs": [
    {
     "name": "stdout",
     "output_type": "stream",
     "text": [
      "\n",
      "Now\n",
      "2021-05-09 06:19:15.414090+09:00\n",
      "<class 'datetime.datetime'>\n"
     ]
    }
   ],
   "source": [
    "print(\"\\nNow\")\n",
    "now = datetime.datetime.now(pytz.timezone('Asia/Tokyo'))\n",
    "print(now)\n",
    "print(type(now))"
   ]
  },
  {
   "cell_type": "code",
   "execution_count": 14,
   "metadata": {},
   "outputs": [
    {
     "name": "stdout",
     "output_type": "stream",
     "text": [
      "\n",
      "Date\n",
      "2021-05-09\n",
      "<class 'str'>\n"
     ]
    }
   ],
   "source": [
    "# Date\n",
    "print(\"\\nDate\")\n",
    "now_2 = str(now.date())\n",
    "print(now_2)\n",
    "print(type(now_2))"
   ]
  },
  {
   "cell_type": "code",
   "execution_count": 15,
   "metadata": {},
   "outputs": [
    {
     "name": "stdout",
     "output_type": "stream",
     "text": [
      "2021-05-09 00:00:00\n",
      "<class 'datetime.datetime'>\n"
     ]
    }
   ],
   "source": [
    "day_1 = datetime.datetime.strptime(now_2, '%Y-%m-%d')\n",
    "print(day_1)\n",
    "print(type(day_1))"
   ]
  },
  {
   "cell_type": "code",
   "execution_count": 16,
   "metadata": {},
   "outputs": [
    {
     "name": "stdout",
     "output_type": "stream",
     "text": [
      "2021-05-09\n",
      "<class 'datetime.date'>\n"
     ]
    }
   ],
   "source": [
    "day_2=day_1.date()\n",
    "print(day_2)\n",
    "print(type(day_2))"
   ]
  },
  {
   "cell_type": "code",
   "execution_count": 17,
   "metadata": {},
   "outputs": [
    {
     "name": "stdout",
     "output_type": "stream",
     "text": [
      "\n",
      "Time\n",
      "06:19:15\n",
      "<class 'str'>\n"
     ]
    }
   ],
   "source": [
    "# Time\n",
    "print(\"\\nTime\")\n",
    "time = now.strftime(\"%H:%M:%S\")\n",
    "print(time)\n",
    "print(type(time))"
   ]
  },
  {
   "cell_type": "code",
   "execution_count": 18,
   "metadata": {},
   "outputs": [
    {
     "name": "stdout",
     "output_type": "stream",
     "text": [
      "06:19:15.414090\n",
      "<class 'datetime.time'>\n"
     ]
    }
   ],
   "source": [
    "time_2 = now.time()\n",
    "print(time_2)\n",
    "print(type(time_2))"
   ]
  },
  {
   "cell_type": "code",
   "execution_count": 19,
   "metadata": {},
   "outputs": [
    {
     "name": "stdout",
     "output_type": "stream",
     "text": [
      "\n",
      "Debug\n",
      "06:19:15\n",
      "<class 'str'>\n"
     ]
    }
   ],
   "source": [
    "# DEBUG\n",
    "print(\"\\nDebug\")\n",
    "debug_1 = '{0:%H:%M:%S}'.format(now.time())\n",
    "print(debug_1)\n",
    "print(type(debug_1))"
   ]
  },
  {
   "cell_type": "code",
   "execution_count": 20,
   "metadata": {},
   "outputs": [
    {
     "name": "stdout",
     "output_type": "stream",
     "text": [
      "2021-05-09\n",
      "<class 'str'>\n"
     ]
    }
   ],
   "source": [
    "debug_2 = '{0:%Y-%m-%d}'.format(now.date())\n",
    "print(debug_2)\n",
    "print(type(debug_2))"
   ]
  },
  {
   "cell_type": "code",
   "execution_count": 21,
   "metadata": {},
   "outputs": [
    {
     "name": "stdout",
     "output_type": "stream",
     "text": [
      "1900-01-01 06:19:15\n",
      "<class 'datetime.datetime'>\n"
     ]
    }
   ],
   "source": [
    "debug_3 = datetime.datetime.strptime(time, '%H:%M:%S')\n",
    "print(debug_3)\n",
    "print(type(debug_3))\n"
   ]
  },
  {
   "cell_type": "code",
   "execution_count": 22,
   "metadata": {},
   "outputs": [
    {
     "name": "stdout",
     "output_type": "stream",
     "text": [
      "06:19:15\n",
      "<class 'datetime.time'>\n"
     ]
    }
   ],
   "source": [
    "debug_4 = debug_3.time()\n",
    "print(debug_4)\n",
    "print(type(debug_4))"
   ]
  },
  {
   "cell_type": "code",
   "execution_count": null,
   "metadata": {},
   "outputs": [],
   "source": []
  }
 ],
 "metadata": {
  "kernelspec": {
   "display_name": "Python 3",
   "language": "python",
   "name": "python3"
  },
  "language_info": {
   "codemirror_mode": {
    "name": "ipython",
    "version": 3
   },
   "file_extension": ".py",
   "mimetype": "text/x-python",
   "name": "python",
   "nbconvert_exporter": "python",
   "pygments_lexer": "ipython3",
   "version": "3.11.0 (main, Nov  2 2022, 16:19:49) [Clang 14.0.0 (clang-1400.0.29.202)]"
  },
  "metadata": {
   "interpreter": {
    "hash": "3ee821bf7455627cbfb3e339c36fbd67f3c2828ef56d50172059d86099a55a3a"
   }
  },
  "orig_nbformat": 2,
  "vscode": {
   "interpreter": {
    "hash": "05a98d04d22c2b4bfb92d23c5a99c5e7faf1023b399f6ff49e0f0240824c3bba"
   }
  }
 },
 "nbformat": 4,
 "nbformat_minor": 2
}
